{
 "cells": [
  {
   "cell_type": "code",
   "execution_count": 13,
   "metadata": {},
   "outputs": [
    {
     "name": "stderr",
     "output_type": "stream",
     "text": [
      "/var/folders/s8/ryzdv1sn1g15nt9h4886lz7m0000gn/T/ipykernel_2244/2976906906.py:9: DtypeWarning: Columns (32) have mixed types. Specify dtype option on import or set low_memory=False.\n",
      "  cars = pd.read_csv('cars-dataset.csv')\n"
     ]
    }
   ],
   "source": [
    "import pandas as pd\n",
    "import numpy as np\n",
    "import matplotlib.pyplot as plt\n",
    "import seaborn as sns\n",
    "import plotly.express as px\n",
    "import plotly.graph_objects as go\n",
    "%matplotlib inline\n",
    "\n",
    "cars = pd.read_csv('cars-dataset.csv')\n",
    "countries = pd.read_csv('brands_countries.csv')\n"
   ]
  },
  {
   "cell_type": "code",
   "execution_count": 7,
   "metadata": {},
   "outputs": [
    {
     "data": {
      "text/plain": [
       "array(['AC', 'ACURA', 'ALFA ROMEO', 'ALPINE', 'ARIEL', 'ARO', 'ARTEGA',\n",
       "       'ASTON MARTIN', 'AUDI', 'AURUS', 'BENTLEY', 'BMW', 'BRISTOL',\n",
       "       'BUFORI', 'BUGATTI', 'BUICK', 'CADILLAC', 'CATERHAM', 'CHEVROLET',\n",
       "       'CHRYSLER', 'CITROEN', 'CUPRA', 'DACIA', 'DAEWOO', 'DAIHATSU',\n",
       "       'DATSUN', 'DeLorean', 'DODGE', 'DONKERVOORT', 'DR MOTOR',\n",
       "       'DS AUTOMOBILES', 'EAGLE', 'FERRARI', 'FIAT', 'FISKER', 'FORD',\n",
       "       'FSO', 'GEELY', 'GENESIS', 'GMC', 'GORDON MURRAY Automotive',\n",
       "       'GTA Motor', 'HINDUSTAN', 'HOLDEN', 'HONDA', 'HUMMER', 'HYUNDAI',\n",
       "       'INEOS', 'INFINITI', 'ISUZU', 'JAGUAR', 'JEEP', 'Karma', 'KIA',\n",
       "       'KOENIGSEGG', 'KTM', 'LADA', 'LAMBORGHINI', 'LANCIA', 'LAND ROVER',\n",
       "       'LEXUS', 'LIGHTYEAR', 'LINCOLN', 'LOTUS', 'Lucid Motors',\n",
       "       'Mahindra', 'MARUSSIA', 'MARUTI SUZUKI', 'MASERATI', 'MAYBACH',\n",
       "       'MAZDA', 'MCLAREN', 'MERCEDES BENZ', 'Mercedes-AMG', 'MERCURY',\n",
       "       'MG', 'MINI', 'MITSUBISHI', 'MORGAN', 'NIO', 'NISSAN',\n",
       "       'OLDSMOBILE', 'OPEL', 'PAGANI', 'PANOZ', 'PERODUA', 'PEUGEOT',\n",
       "       'Pininfarina', 'PLYMOUTH', 'Polestar', 'PONTIAC', 'PORSCHE',\n",
       "       'PROTON', 'QOROS', 'RAM Trucks', 'RENAULT', 'RIMAC', 'RIVIAN',\n",
       "       'ROLLS-ROYCE', 'SAAB', 'SALEEN', 'SAMSUNG', 'SANTANA', 'SATURN',\n",
       "       'SCION', 'SEAT', 'SKODA', 'SMART', 'SPYKER', 'SSANGYONG', 'SUBARU',\n",
       "       'SUZUKI', 'TATA MOTORS', 'TESLA', 'TOYOTA', 'TVR', 'VAUXHALL',\n",
       "       'VinFast', 'VOLKSWAGEN', 'VOLVO', 'WIESMANN', 'Xpeng', 'ZENDER',\n",
       "       'Zenvo'], dtype=object)"
      ]
     },
     "execution_count": 7,
     "metadata": {},
     "output_type": "execute_result"
    }
   ],
   "source": [
    "cars['Company'].unique()"
   ]
  },
  {
   "cell_type": "code",
   "execution_count": 8,
   "metadata": {},
   "outputs": [
    {
     "data": {
      "text/plain": [
       "124"
      ]
     },
     "execution_count": 8,
     "metadata": {},
     "output_type": "execute_result"
    }
   ],
   "source": [
    "#count unique companies\n",
    "cars['Company'].nunique()"
   ]
  },
  {
   "cell_type": "code",
   "execution_count": 14,
   "metadata": {},
   "outputs": [],
   "source": [
    "# Join the two dataframes along rows\n",
    "complete = cars.merge(countries, on='Company', how='left')\n",
    "\n",
    "#Save the complete dataset to a new csv file\n",
    "complete.to_csv('complete_cars.csv', index=False)"
   ]
  }
 ],
 "metadata": {
  "kernelspec": {
   "display_name": "Python 3",
   "language": "python",
   "name": "python3"
  },
  "language_info": {
   "codemirror_mode": {
    "name": "ipython",
    "version": 3
   },
   "file_extension": ".py",
   "mimetype": "text/x-python",
   "name": "python",
   "nbconvert_exporter": "python",
   "pygments_lexer": "ipython3",
   "version": "3.11.7"
  },
  "orig_nbformat": 4
 },
 "nbformat": 4,
 "nbformat_minor": 2
}
